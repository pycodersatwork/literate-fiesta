{
 "cells": [
  {
   "cell_type": "markdown",
   "metadata": {},
   "source": [
    "#### 1. Find the complexity of the below occurance"
   ]
  },
  {
   "cell_type": "markdown",
   "metadata": {},
   "source": [
    "T(n) = 3T(n-1) if n > 0\n",
    "\n",
    "T(n) = 1 _otherwise_"
   ]
  },
  {
   "cell_type": "markdown",
   "metadata": {},
   "source": [
    "<span style=\"color:cyan\">Solution</span>"
   ]
  },
  {
   "cell_type": "markdown",
   "metadata": {},
   "source": [
    "T(n) = 3T(n-1)\n",
    "\n",
    "Therefore,\n",
    "\n",
    "T(n) = 3(3(T(n)-1) - 1) => 3\\*\\*2(T(n) - 2)\n",
    "\n",
    "T(n) = 3(3(3(T(n)-1) - 1) -1) => 3\\*\\*3(T(n) - 3)\n",
    "\n",
    "(...)\n",
    "\n",
    "T(n) = 3\\*\\*n(T(n) - n)\n",
    "\n",
    "Which means O(n) = 3\\*\\*n"
   ]
  }
 ],
 "metadata": {
  "kernelspec": {
   "display_name": "Python 3",
   "language": "python",
   "name": "python3"
  },
  "language_info": {
   "codemirror_mode": {
    "name": "ipython",
    "version": 3
   },
   "file_extension": ".py",
   "mimetype": "text/x-python",
   "name": "python",
   "nbconvert_exporter": "python",
   "pygments_lexer": "ipython3",
   "version": "3.7.0"
  }
 },
 "nbformat": 4,
 "nbformat_minor": 2
}
