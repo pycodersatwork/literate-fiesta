{
 "cells": [
  {
   "cell_type": "markdown",
   "metadata": {},
   "source": [
    "#### Loops"
   ]
  },
  {
   "cell_type": "markdown",
   "metadata": {},
   "source": [
    "The running time of the loop is at most the running time of the statements inside of the loop.\n",
    "\n",
    "Total time = a constant c x n = cn\n",
    "Big O = cn = O(n)"
   ]
  },
  {
   "cell_type": "code",
   "execution_count": 3,
   "metadata": {},
   "outputs": [
    {
     "name": "stdout",
     "output_type": "stream",
     "text": [
      "Hello World\n",
      "Hello World\n",
      "Hello World\n",
      "Hello World\n",
      "Hello World\n"
     ]
    }
   ],
   "source": [
    "# %load loops.py\n",
    "\"\"\" Loops.\n",
    "\"\"\"\n",
    "\n",
    "\n",
    "def loops(seq):\n",
    "    \"\"\" Simple execution of for loop.\n",
    "\n",
    "    Args: seq (list)    Sequence of elements.\n",
    "    \"\"\"\n",
    "    for _ in seq:\n",
    "        print(\"Hello World\")\n",
    "\n",
    "\n",
    "if __name__ == \"__main__\":\n",
    "    loops((1, 2, 3, 4, 5))\n"
   ]
  },
  {
   "cell_type": "markdown",
   "metadata": {},
   "source": [
    "#### Nested loops"
   ]
  },
  {
   "cell_type": "markdown",
   "metadata": {},
   "source": [
    "The total running time is the product of sizes of all the loops. In the below case it is n x n."
   ]
  },
  {
   "cell_type": "code",
   "execution_count": 4,
   "metadata": {},
   "outputs": [
    {
     "name": "stdout",
     "output_type": "stream",
     "text": [
      "1 ----> 1\n",
      "1 ----> 2\n",
      "1 ----> 3\n",
      "1 ----> 4\n",
      "2 ----> 1\n",
      "2 ----> 2\n",
      "2 ----> 3\n",
      "2 ----> 4\n",
      "3 ----> 1\n",
      "3 ----> 2\n",
      "3 ----> 3\n",
      "3 ----> 4\n",
      "4 ----> 1\n",
      "4 ----> 2\n",
      "4 ----> 3\n",
      "4 ----> 4\n"
     ]
    }
   ],
   "source": [
    "# %load nested_loops.py\n",
    "\"\"\" Nested loops\n",
    "\"\"\"\n",
    "\n",
    "\n",
    "def nested_loops(seq):\n",
    "    \"\"\" Nested loops.\n",
    "\n",
    "    Args: seq(list/tuple)   A sequence of list or tuples\n",
    "    \"\"\"\n",
    "    for segment_1 in seq:\n",
    "        for segment_2 in seq:\n",
    "            print(segment_1, \"---->\", segment_2)\n",
    "\n",
    "\n",
    "if __name__ == \"__main__\":\n",
    "    nested_loops([1, 2, 3, 4])\n"
   ]
  }
 ],
 "metadata": {
  "kernelspec": {
   "display_name": "Python 2",
   "language": "python",
   "name": "python2"
  },
  "language_info": {
   "codemirror_mode": {
    "name": "ipython",
    "version": 3
   },
   "file_extension": ".py",
   "mimetype": "text/x-python",
   "name": "python",
   "nbconvert_exporter": "python",
   "pygments_lexer": "ipython3",
   "version": "3.7.0"
  }
 },
 "nbformat": 4,
 "nbformat_minor": 2
}
