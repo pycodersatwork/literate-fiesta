{
 "cells": [
  {
   "cell_type": "code",
   "execution_count": 1,
   "metadata": {},
   "outputs": [],
   "source": [
    "import collections"
   ]
  },
  {
   "cell_type": "markdown",
   "metadata": {},
   "source": [
    "#### Create a namedtuple objects"
   ]
  },
  {
   "cell_type": "code",
   "execution_count": 2,
   "metadata": {},
   "outputs": [],
   "source": [
    "site = collections.namedtuple('site', 'siteName siteId location')\n",
    "location = collections.namedtuple('location', 'lattitude longitude')"
   ]
  },
  {
   "cell_type": "markdown",
   "metadata": {},
   "source": [
    "#### Add a site"
   ]
  },
  {
   "cell_type": "code",
   "execution_count": 3,
   "metadata": {},
   "outputs": [],
   "source": [
    "bangalore = site._make(\n",
    "    ('Bangalore', 1001, location(12.77, 77.59))\n",
    ")\n",
    "\n",
    "london = site._make(\n",
    "    ('London', 1002, location(51.50, 0.12))\n",
    ")"
   ]
  },
  {
   "cell_type": "markdown",
   "metadata": {},
   "source": [
    "#### Display the result of the make operation"
   ]
  },
  {
   "cell_type": "markdown",
   "metadata": {},
   "source": [
    "It should be noted that we are making use of a record to build a namedtuple. This can be thought of getting a database record to named tuple."
   ]
  },
  {
   "cell_type": "code",
   "execution_count": 5,
   "metadata": {},
   "outputs": [
    {
     "name": "stdout",
     "output_type": "stream",
     "text": [
      "OrderedDict([('siteName', 'Bangalore'), ('siteId', 1001), ('location', location(lattitude=12.77, longitude=77.59))])\n",
      "OrderedDict([('siteName', 'London'), ('siteId', 1002), ('location', location(lattitude=51.5, longitude=0.12))])\n"
     ]
    }
   ],
   "source": [
    "print(bangalore._asdict())\n",
    "print(london._asdict())"
   ]
  }
 ],
 "metadata": {
  "kernelspec": {
   "display_name": "Python 3",
   "language": "python",
   "name": "python3"
  },
  "language_info": {
   "codemirror_mode": {
    "name": "ipython",
    "version": 3
   },
   "file_extension": ".py",
   "mimetype": "text/x-python",
   "name": "python",
   "nbconvert_exporter": "python",
   "pygments_lexer": "ipython3",
   "version": "3.7.0"
  }
 },
 "nbformat": 4,
 "nbformat_minor": 2
}
