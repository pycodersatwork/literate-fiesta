{
 "cells": [
  {
   "cell_type": "markdown",
   "metadata": {},
   "source": [
    "#### Using *setdefault*."
   ]
  },
  {
   "cell_type": "code",
   "execution_count": null,
   "metadata": {},
   "outputs": [],
   "source": [
    "import urllib\n",
    "import pprint"
   ]
  },
  {
   "cell_type": "code",
   "execution_count": null,
   "metadata": {},
   "outputs": [],
   "source": [
    "url = 'https://www.gutenberg.org/files/1342/1342.txt'\n",
    "resp = urllib.request.urlopen(url)\n",
    "words = {}\n",
    "\n",
    "if resp.code == 200:\n",
    "    for record in resp.readlines():\n",
    "        for keys in record.split():\n",
    "            words[keys] = words.setdefault(keys, 0) + 1\n",
    "            \n",
    "pprint.pprint(words)"
   ]
  },
  {
   "cell_type": "markdown",
   "metadata": {},
   "source": [
    "#### How to check an object is of type dict."
   ]
  },
  {
   "cell_type": "code",
   "execution_count": null,
   "metadata": {},
   "outputs": [],
   "source": [
    "from collections import Mapping\n",
    "\n",
    "wordPower = {}\n",
    "print(isinstance(wordPower, Mapping))\n",
    "\n",
    "countries = ('India', 'Pakistan', 'Srilanka', 'Afganistan')\n",
    "print(isinstance(countries, Mapping))\n",
    "\n",
    "sports = ['Cricket', 'Football', 'Baseball', 'Soccer']\n",
    "print(isinstance(sports, Mapping))"
   ]
  },
  {
   "cell_type": "markdown",
   "metadata": {},
   "source": [
    "#### Default dict in python"
   ]
  },
  {
   "cell_type": "code",
   "execution_count": null,
   "metadata": {},
   "outputs": [],
   "source": [
    "from pprint import pprint\n",
    "from collections import defaultdict\n",
    "\n",
    "countryToSportMap = [\n",
    "    ['India', 'Cricket'],\n",
    "    ['Pakistan', 'Cricket'],\n",
    "    ['India', 'Hockey'],\n",
    "    ['Australia', 'Cricket'],\n",
    "    ['Australia', 'Rugby']\n",
    "]\n",
    "\n",
    "country = defaultdict(list)\n",
    "\n",
    "for countryToSport in countryToSportMap:\n",
    "    country[countryToSport[0]].append(countryToSport[1])\n",
    "pprint(country)"
   ]
  },
  {
   "cell_type": "markdown",
   "metadata": {},
   "source": [
    "#### Make normal dict a defaultdict\n",
    "\n",
    "It's worth to make a note that we are using `UserDict` instead of inherring from `dict`."
   ]
  },
  {
   "cell_type": "code",
   "execution_count": 1,
   "metadata": {},
   "outputs": [
    {
     "name": "stdout",
     "output_type": "stream",
     "text": [
      "{'India': 'Independent', 'Srilanka': 'Neighbouring'}\n"
     ]
    }
   ],
   "source": [
    "from collections import UserDict\n",
    "import pprint\n",
    "\n",
    "class CustomDict(UserDict):\n",
    "    def __init__(self):\n",
    "        super(CustomDict, self).__init__()\n",
    "        \n",
    "    def __missing__(self, key):\n",
    "        if str(key) not in self:\n",
    "            raise KeyError\n",
    "        return self[str(Key)]\n",
    "        \n",
    "    def __contains__(self, key):\n",
    "        if str(key) in self.keys():\n",
    "            return key\n",
    "        return None\n",
    "    \n",
    "if __name__ == \"__main__\":\n",
    "    s = CustomDict()\n",
    "    s.update({'India': 'Independent'})\n",
    "    # Add an element using the index\n",
    "    s['Srilanka'] = 'Neighbouring'\n",
    "    pprint.pprint(s)"
   ]
  },
  {
   "cell_type": "markdown",
   "metadata": {},
   "source": [
    "#### Implement frozen dict in python"
   ]
  },
  {
   "cell_type": "code",
   "execution_count": 23,
   "metadata": {},
   "outputs": [
    {
     "ename": "TypeError",
     "evalue": "FrozenDict() takes no arguments",
     "output_type": "error",
     "traceback": [
      "\u001b[0;31m---------------------------------------------------------------------------\u001b[0m",
      "\u001b[0;31mTypeError\u001b[0m                                 Traceback (most recent call last)",
      "\u001b[0;32m<ipython-input-23-dcc60cc52890>\u001b[0m in \u001b[0;36m<module>\u001b[0;34m()\u001b[0m\n\u001b[1;32m     23\u001b[0m \u001b[0;34m\u001b[0m\u001b[0m\n\u001b[1;32m     24\u001b[0m \u001b[0;32mif\u001b[0m \u001b[0m__name__\u001b[0m \u001b[0;34m==\u001b[0m \u001b[0;34m\"__main__\"\u001b[0m\u001b[0;34m:\u001b[0m\u001b[0;34m\u001b[0m\u001b[0m\n\u001b[0;32m---> 25\u001b[0;31m     \u001b[0mx\u001b[0m \u001b[0;34m=\u001b[0m \u001b[0mFrozenDict\u001b[0m\u001b[0;34m(\u001b[0m\u001b[0ma\u001b[0m\u001b[0;34m=\u001b[0m\u001b[0;36m1\u001b[0m\u001b[0;34m,\u001b[0m \u001b[0mb\u001b[0m\u001b[0;34m=\u001b[0m\u001b[0;36m2\u001b[0m\u001b[0;34m)\u001b[0m\u001b[0;34m\u001b[0m\u001b[0m\n\u001b[0m\u001b[1;32m     26\u001b[0m     \u001b[0my\u001b[0m \u001b[0;34m=\u001b[0m \u001b[0mFrozenDict\u001b[0m\u001b[0;34m(\u001b[0m\u001b[0ma\u001b[0m\u001b[0;34m=\u001b[0m\u001b[0;36m1\u001b[0m\u001b[0;34m,\u001b[0m \u001b[0mb\u001b[0m\u001b[0;34m=\u001b[0m\u001b[0;36m2\u001b[0m\u001b[0;34m)\u001b[0m\u001b[0;34m\u001b[0m\u001b[0m\n\u001b[1;32m     27\u001b[0m     \u001b[0mprint\u001b[0m\u001b[0;34m(\u001b[0m\u001b[0mx\u001b[0m \u001b[0;32mis\u001b[0m \u001b[0my\u001b[0m\u001b[0;34m)\u001b[0m\u001b[0;34m\u001b[0m\u001b[0m\n",
      "\u001b[0;31mTypeError\u001b[0m: FrozenDict() takes no arguments"
     ]
    }
   ],
   "source": [
    "import collections\n",
    "\n",
    "class FrozenDict(collections.Mapping):\n",
    "    de\n",
    "\n",
    "    def __len__(self):\n",
    "        return len(self._d)\n",
    "\n",
    "    def __getitem__(self, key):\n",
    "        return self._d[key]\n",
    "\n",
    "    def __hash__(self):\n",
    "        # It would have been simpler and maybe more obvious to \n",
    "        # use hash(tuple(sorted(self._d.iteritems()))) from this discussion\n",
    "        # so far, but this solution is O(n). I don't know what kind of \n",
    "        # n we are going to run into, but sometimes it's hard to resist the \n",
    "        # urge to optimize when it will gain improved algorithmic performance.\n",
    "        if self._hash is None:\n",
    "            self._hash = 0\n",
    "            for pair in self.iteritems():\n",
    "                self._hash ^= hash(pair)\n",
    "        return self._hash\n",
    "    \n",
    "    \n",
    "if __name__ == \"__main__\":\n",
    "    x = FrozenDict(a=1, b=2)\n",
    "    y = FrozenDict(a=1, b=2)\n",
    "    print(x is y)\n",
    "    # x['a'] = 1000\n",
    "    x.update({'c': 200})"
   ]
  }
 ],
 "metadata": {
  "kernelspec": {
   "display_name": "Python 2",
   "language": "python",
   "name": "python2"
  },
  "language_info": {
   "codemirror_mode": {
    "name": "ipython",
    "version": 3
   },
   "file_extension": ".py",
   "mimetype": "text/x-python",
   "name": "python",
   "nbconvert_exporter": "python",
   "pygments_lexer": "ipython3",
   "version": "3.7.0"
  }
 },
 "nbformat": 4,
 "nbformat_minor": 2
}
